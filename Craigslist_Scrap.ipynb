{
 "cells": [
  {
   "cell_type": "markdown",
   "id": "7bd5553e",
   "metadata": {},
   "source": [
    "1.파이썬-> 구글스프레드시트로 연결시켜서 옮기기\n",
    "\n",
    "2.사이트에서 크롤링\n",
    "\n",
    "3.조건 1.OWNER / 2.has image / 3. Price 5,000이하"
   ]
  },
  {
   "cell_type": "code",
   "execution_count": null,
   "id": "e75070b0",
   "metadata": {
    "scrolled": true
   },
   "outputs": [],
   "source": [
    "import gspread\n",
    "from oauth2client.service_account import ServiceAccountCredentials\n",
    "\n",
    "scope = [\n",
    "'https://spreadsheets.google.com/feeds',\n",
    "'https://www.googleapis.com/auth/drive',\n",
    "]\n",
    "\n",
    "#json파일\n",
    "json_file_name = 'sunlit-cove-371001-e6ac09769edd.json'\n",
    "credentials = ServiceAccountCredentials.from_json_keyfile_name(json_file_name, scope)\n",
    "gc = gspread.authorize(credentials)\n",
    "\n",
    "#URL가져오기\n",
    "spreadsheet_url = 'https://docs.google.com/spreadsheets/d/10lPp04ItUu7w0Lgt3gRXD_rvtgW8ZLtbfjRcwnmnkyI/edit?pli=1#gid=0'\n",
    "doc = gc.open_by_url(spreadsheet_url)\n",
    "\n",
    "Page_i = 1\n",
    "sheet_name = \"page \" + str(Page_i)\n",
    "ws = doc.add_worksheet(title=sheet_name, rows=150, cols=26)\n",
    "worksheet = doc.worksheet(sheet_name) # 시트선택\n",
    "worksheet.update_acell('A1', 'DATE')\n",
    "worksheet.update_acell('B1', 'LOCATION')\n",
    "worksheet.update_acell('C1', 'TITLE')\n",
    "worksheet.update_acell('D'+str(1), 'IMAGE')"
   ]
  },
  {
   "cell_type": "code",
   "execution_count": null,
   "id": "a907d511",
   "metadata": {
    "scrolled": true
   },
   "outputs": [],
   "source": [
    "#마무리\n",
    "import gspread\n",
    "from oauth2client.service_account import ServiceAccountCredentials\n",
    "import selenium\n",
    "from selenium import webdriver\n",
    "from selenium.webdriver.common.keys import Keys\n",
    "from bs4 import BeautifulSoup\n",
    "from time import sleep\n",
    "import requests\n",
    "\n",
    "#Gspread 연동\n",
    "scope = [\n",
    "'https://spreadsheets.google.com/feeds',\n",
    "'https://www.googleapis.com/auth/drive',\n",
    "]\n",
    "\n",
    "#json파일\n",
    "json_file_name = 'sunlit-cove-371001-e6ac09769edd.json'\n",
    "credentials = ServiceAccountCredentials.from_json_keyfile_name(json_file_name, scope)\n",
    "gc = gspread.authorize(credentials)\n",
    "\n",
    "#URL가져오기\n",
    "spreadsheet_url = 'https://docs.google.com/spreadsheets/d/10lPp04ItUu7w0Lgt3gRXD_rvtgW8ZLtbfjRcwnmnkyI/edit?pli=1#gid=0'\n",
    "doc = gc.open_by_url(spreadsheet_url)\n",
    "\n",
    "\n",
    "Page_i = 1\n",
    "sheet_name = \"page \" + str(Page_i)\n",
    "\n",
    "ws = doc.add_worksheet(title=sheet_name, rows=150, cols=26)#시트생성\n",
    "\n",
    "worksheet = doc.worksheet(sheet_name)#시트선택\n",
    "worksheet.update_acell('A1', 'DATE')\n",
    "worksheet.update_acell('B1', 'LOCATION')\n",
    "worksheet.update_acell('C1', 'TITLE')\n",
    "worksheet.update_acell('D1', 'IMAGE')\n",
    "\n",
    "driver = webdriver.Chrome()\n",
    "driver.get('https://sfbay.craigslist.org/search/cta?hasPic=1&max_price=5000&purveyor=owner#search=1~gallery~0~0')\n",
    "sleep(1)\n",
    "html = driver.page_source\n",
    "soup = BeautifulSoup(html, 'html.parser')\n",
    "\n",
    "\n",
    "#차량이름, 위치, 날짜\n",
    "title = soup.select('ol li.cl-search-result div.title-blob')# #은 아이디, 띄어쓰기 하위 속석 .은 class\n",
    "created_date_and_location = soup.select('ol div.meta')\n",
    "title_size = len(title)\n",
    "for i in range(title_size):\n",
    "    title_text = title[i].text\n",
    "    split = created_date_and_location[i].text.split('·')\n",
    "    created_date = split[0]\n",
    "    location = split[1]\n",
    "    first_link = soup.select('ol div a.main')\n",
    "    first_link_size = len(first_link)\n",
    "    #print('created_date:',created_date,'location:',location,'title:',title_text)\n",
    "    print(i+2)\n",
    "    print('title_text:',title_text)\n",
    "    print('location:',location)\n",
    "    print('date:',created_date)\n",
    "    print()\n",
    "\n"
   ]
  },
  {
   "cell_type": "code",
   "execution_count": null,
   "id": "c98ff60a",
   "metadata": {},
   "outputs": [],
   "source": [
    "    try : \n",
    "        worksheet.update_acell('A'+str(i+2), created_date)\n",
    "    except:\n",
    "        print('예외가 발생했습니다1상.')\n",
    "        row_data = worksheet.row_values(1)\n",
    "        sleep(10)\n",
    "        row_data = worksheet.row_values(1)\n",
    "        print(row_data)\n",
    "        worksheet.update_acell('A'+str(i+2), created_date)\n",
    "        print('예외가 발생했습니다1하.')\n",
    "    try : \n",
    "        worksheet.update_acell('B'+str(i+2), location)\n",
    "    except Exception as e:\n",
    "        print(e)\n",
    "        print('예외가 발생했습니다2상.')\n",
    "        sleep(10)\n",
    "        worksheet.update_acell('B'+str(i+2), location)\n",
    "        print('예외가 발생했습니다2하.')\n",
    "    try : \n",
    "        worksheet.update_acell('C'+str(i+2), title_text)\n",
    "    except:\n",
    "        print('예외가 발생했습니다3상.')\n",
    "        sleep(10)\n",
    "        worksheet.update_acell('C'+str(i+2), title_text)\n",
    "        print('예외가 발생했습니다3하.')"
   ]
  },
  {
   "cell_type": "code",
   "execution_count": null,
   "id": "619760f0",
   "metadata": {},
   "outputs": [],
   "source": [
    "    try :\n",
    "        for i in range(first_link_size):\n",
    "            print((first_link[i])['href'])\n",
    "            res = requests.get((first_link[i])['href'])\n",
    "            soup2 = BeautifulSoup(res.content, 'html.parser')\n",
    "    except:\n",
    "        print('예외발생')"
   ]
  },
  {
   "cell_type": "code",
   "execution_count": null,
   "id": "ff204da1",
   "metadata": {
    "scrolled": true
   },
   "outputs": [],
   "source": [
    "#해당 게시글에서 사진링크\n",
    "import requests\n",
    "from bs4 import BeautifulSoup\n",
    "\n",
    "res = requests.get('https://sfbay.craigslist.org/pen/cto/7568245359.html')\n",
    "soup2 = BeautifulSoup(res.content, 'html.parser')\n",
    "#print(soup2)\n",
    "soup2_select = soup2.select('#thumbs a.thumb')\n",
    "for i in range (len(soup2_select)):\n",
    "    print((soup2_select[i])['href'])"
   ]
  },
  {
   "cell_type": "code",
   "execution_count": null,
   "id": "1ac8163c",
   "metadata": {
    "scrolled": true
   },
   "outputs": [],
   "source": [
    "import selenium\n",
    "from selenium import webdriver\n",
    "from selenium.webdriver.common.keys import Keys\n",
    "from bs4 import BeautifulSoup\n",
    "from time import sleep\n",
    "\n",
    "\n",
    "driver = webdriver.Chrome()\n",
    "driver.get('https://orangecounty.craigslist.org/search/cta#search=1~gallery~0~0')\n",
    "sleep(1)\n",
    "html = driver.page_source\n",
    "soup = BeautifulSoup(html, 'html.parser')\n",
    "print(soup)\n",
    "#elements = driver.find_elements_by_css_selector('#search-results-page-1 > ol')\n",
    "#보통 html만 사용하여 페이지를 다 표현하지 않고, css로 동적인 이미지 표현한 것도 있어서 \n",
    "#단순히 html 파싱으로는 가져오는게 한계가 있다.\n"
   ]
  },
  {
   "cell_type": "code",
   "execution_count": null,
   "id": "c116edd0",
   "metadata": {
    "scrolled": true
   },
   "outputs": [],
   "source": [
    "import requests\n",
    "from bs4 import BeautifulSoup as bs\n",
    "import json\n",
    "url = 'https://sapi.craigslist.org/web/v7/postings/search/full?batch=103-0-360-0-0&cc=US&lang=en&searchPath=cta'\n",
    "\n",
    "response = requests.get(url)\n",
    "bsObj = bs(response.content,'html.parser')\n",
    "jsonObj = response.json()\n",
    "#print(bsObj)\n",
    "#print(jsonObj)\n",
    "json_formatted_str = json.dumps(jsonObj, indent=2)\n",
    "\n",
    "print(json_formatted_str)\n",
    "#print(jsonObj[\"items\"])"
   ]
  },
  {
   "cell_type": "code",
   "execution_count": null,
   "id": "65cd6815",
   "metadata": {
    "scrolled": true
   },
   "outputs": [],
   "source": [
    "print(jsonObj[\"data\"][\"decode\"][\"locationDescriptions\"])"
   ]
  },
  {
   "cell_type": "code",
   "execution_count": null,
   "id": "28315ea8",
   "metadata": {},
   "outputs": [],
   "source": [
    "import requests\n",
    "from bs4 import BeautifulSoup as bs\n",
    "import json\n",
    "url = 'https://sapi.craigslist.org/web/v7/postings/search/full?batch=103-0-360-0-0&cc=US&hasPic=1&lang=en&max_price=5000&purveyor=owner&searchPath=cta'\n",
    "\n",
    "response = requests.get(url)\n",
    "print(response)\n",
    "jsonObj = response.json()\n",
    "#print(response.headers)\n",
    "header = {'Last-Modified': 'Tue'}\n",
    "#print(bsObj)\n",
    "#print(jsonObj)\n",
    "response = requests.get(url, headers = header)\n",
    "jsonObj = response.json()\n",
    "#print(jsonObj)\n",
    "json_formatted_str = json.dumps(jsonObj, indent=2)\n",
    "#print(json_formatted_str)\n",
    "print(jsonObj['data']['items'])\n",
    "#print(jsonObj[\"items\"])"
   ]
  }
 ],
 "metadata": {
  "kernelspec": {
   "display_name": "Python 3 (ipykernel)",
   "language": "python",
   "name": "python3"
  },
  "language_info": {
   "codemirror_mode": {
    "name": "ipython",
    "version": 3
   },
   "file_extension": ".py",
   "mimetype": "text/x-python",
   "name": "python",
   "nbconvert_exporter": "python",
   "pygments_lexer": "ipython3",
   "version": "3.9.13"
  }
 },
 "nbformat": 4,
 "nbformat_minor": 5
}
